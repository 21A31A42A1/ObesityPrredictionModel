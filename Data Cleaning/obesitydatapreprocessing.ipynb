{
  "nbformat": 4,
  "nbformat_minor": 0,
  "metadata": {
    "colab": {
      "provenance": []
    },
    "kernelspec": {
      "name": "python3",
      "display_name": "Python 3"
    },
    "language_info": {
      "name": "python"
    }
  },
  "cells": [
    {
      "cell_type": "code",
      "execution_count": null,
      "metadata": {
        "colab": {
          "base_uri": "https://localhost:8080/"
        },
        "id": "KDBs5yt4NXDQ",
        "outputId": "16726a05-a1d4-4e6a-e219-11980d48b3e9"
      },
      "outputs": [
        {
          "output_type": "stream",
          "name": "stdout",
          "text": [
            "      id  Gender        Age    Height      Weight  \\\n",
            "0      0    Male  24.443011  1.699998   81.669950   \n",
            "1      1  Female  18.000000  1.560000   57.000000   \n",
            "2      2  Female  18.000000  1.711460   50.165754   \n",
            "3      3  Female  20.952737  1.710730  131.274851   \n",
            "4      4    Male  31.641081  1.914186   93.798055   \n",
            "...   ..     ...        ...       ...         ...   \n",
            "5000  11    Male  22.000000  1.700000   70.000000   \n",
            "5001  13  Female  21.412538  1.729045  131.529267   \n",
            "5002  14  Female  20.000000  1.570000   49.000000   \n",
            "5003  16  Female  34.000000  1.700000   80.000000   \n",
            "5004  17  Female  18.000000  1.560000   50.000000   \n",
            "\n",
            "     family_history_with_overweight FAVC      FCVC       NCP        CAEC  \\\n",
            "0                               yes  yes  2.000000  2.983297   Sometimes   \n",
            "1                               yes  yes  2.000000  3.000000  Frequently   \n",
            "2                               yes  yes  1.880534  1.411685   Sometimes   \n",
            "3                               yes  yes  3.000000  3.000000   Sometimes   \n",
            "4                               yes  yes  2.679664  1.971472   Sometimes   \n",
            "...                             ...  ...       ...       ...         ...   \n",
            "5000                            yes   no  2.000000  3.000000          no   \n",
            "5001                            yes  yes  3.000000  3.000000   Sometimes   \n",
            "5002                             no   no  2.000000  1.000000   Sometimes   \n",
            "5003                            yes   no  3.000000  3.000000      Always   \n",
            "5004                             no  yes  3.000000  3.000000   Sometimes   \n",
            "\n",
            "     SMOKE      CH2O SCC       FAF       TUE       CALC  \\\n",
            "0       no  2.763573  no  0.000000  0.976473  Sometimes   \n",
            "1       no  2.000000  no  1.000000  1.000000         no   \n",
            "2       no  1.910378  no  0.866045  1.673584         no   \n",
            "3       no  1.674061  no  1.467863  0.780199  Sometimes   \n",
            "4       no  1.979848  no  1.967973  0.931721  Sometimes   \n",
            "...    ...       ...  ..       ...       ...        ...   \n",
            "5000    no  2.000000  no  2.000000  1.000000         no   \n",
            "5001    no  1.959531  no  1.425712  0.947884  Sometimes   \n",
            "5002    no  1.000000  no  3.000000  2.000000         no   \n",
            "5003    no  2.000000  no  0.000000  0.000000         no   \n",
            "5004    no  1.000000  no  1.000000  0.000000  Sometimes   \n",
            "\n",
            "                     MTRANS           NObeyesdad  \n",
            "0     Public_Transportation  Overweight_Level_II  \n",
            "1                Automobile        Normal_Weight  \n",
            "2     Public_Transportation  Insufficient_Weight  \n",
            "3     Public_Transportation     Obesity_Type_III  \n",
            "4     Public_Transportation  Overweight_Level_II  \n",
            "...                     ...                  ...  \n",
            "5000                Walking        Normal_Weight  \n",
            "5001  Public_Transportation     Obesity_Type_III  \n",
            "5002                Walking        Normal_Weight  \n",
            "5003             Automobile  Overweight_Level_II  \n",
            "5004  Public_Transportation        Normal_Weight  \n",
            "\n",
            "[5005 rows x 18 columns]\n"
          ]
        }
      ],
      "source": [
        "import pandas as pd\n",
        "data = pd.read_csv('train_modified.csv')\n",
        "print(data)"
      ]
    },
    {
      "cell_type": "markdown",
      "source": [
        "Renaming Columns"
      ],
      "metadata": {
        "id": "RPN_Tgu_cG1w"
      }
    },
    {
      "cell_type": "code",
      "source": [
        "data = data.rename(columns = {'FAVC' : 'frequent_consumption_of_high_caloric_food', 'FCVC' : 'frequency_of_consumption_of_vegetables', 'NCP' : 'number_of_main_meals', 'CAEC' : 'consumption_of_food_between_meals', 'CH2O' : 'consumption_of_water_daily', 'CALC' : 'consumption_of_alcohol', 'SCC' : 'calories_consumption_monitoring', 'FAF' : 'physical_activity_frequency', 'TUE' : 'time_using_technology_devices', 'MTRANS' : 'transportation_used', 'NObeyesdad' : 'obesity_level'})\n",
        "print(data)"
      ],
      "metadata": {
        "colab": {
          "base_uri": "https://localhost:8080/"
        },
        "id": "LNxyTA7tO2zq",
        "outputId": "e90c9cc8-3b43-4ccb-c096-90cb180017bd"
      },
      "execution_count": null,
      "outputs": [
        {
          "output_type": "stream",
          "name": "stdout",
          "text": [
            "      id  Gender        Age    Height      Weight  \\\n",
            "0      0    Male  24.443011  1.699998   81.669950   \n",
            "1      1  Female  18.000000  1.560000   57.000000   \n",
            "2      2  Female  18.000000  1.711460   50.165754   \n",
            "3      3  Female  20.952737  1.710730  131.274851   \n",
            "4      4    Male  31.641081  1.914186   93.798055   \n",
            "...   ..     ...        ...       ...         ...   \n",
            "5000  11    Male  22.000000  1.700000   70.000000   \n",
            "5001  13  Female  21.412538  1.729045  131.529267   \n",
            "5002  14  Female  20.000000  1.570000   49.000000   \n",
            "5003  16  Female  34.000000  1.700000   80.000000   \n",
            "5004  17  Female  18.000000  1.560000   50.000000   \n",
            "\n",
            "     family_history_with_overweight frequent_consumption_of_high_caloric_food  \\\n",
            "0                               yes                                       yes   \n",
            "1                               yes                                       yes   \n",
            "2                               yes                                       yes   \n",
            "3                               yes                                       yes   \n",
            "4                               yes                                       yes   \n",
            "...                             ...                                       ...   \n",
            "5000                            yes                                        no   \n",
            "5001                            yes                                       yes   \n",
            "5002                             no                                        no   \n",
            "5003                            yes                                        no   \n",
            "5004                             no                                       yes   \n",
            "\n",
            "      frequency_of_consumption_of_vegetables  number_of_main_meals  \\\n",
            "0                                   2.000000              2.983297   \n",
            "1                                   2.000000              3.000000   \n",
            "2                                   1.880534              1.411685   \n",
            "3                                   3.000000              3.000000   \n",
            "4                                   2.679664              1.971472   \n",
            "...                                      ...                   ...   \n",
            "5000                                2.000000              3.000000   \n",
            "5001                                3.000000              3.000000   \n",
            "5002                                2.000000              1.000000   \n",
            "5003                                3.000000              3.000000   \n",
            "5004                                3.000000              3.000000   \n",
            "\n",
            "     consumption_of_food_between_meals SMOKE  consumption_of_water_daily  \\\n",
            "0                            Sometimes    no                    2.763573   \n",
            "1                           Frequently    no                    2.000000   \n",
            "2                            Sometimes    no                    1.910378   \n",
            "3                            Sometimes    no                    1.674061   \n",
            "4                            Sometimes    no                    1.979848   \n",
            "...                                ...   ...                         ...   \n",
            "5000                                no    no                    2.000000   \n",
            "5001                         Sometimes    no                    1.959531   \n",
            "5002                         Sometimes    no                    1.000000   \n",
            "5003                            Always    no                    2.000000   \n",
            "5004                         Sometimes    no                    1.000000   \n",
            "\n",
            "     calories_consumption_monitoring  physical_activity_frequency  \\\n",
            "0                                 no                     0.000000   \n",
            "1                                 no                     1.000000   \n",
            "2                                 no                     0.866045   \n",
            "3                                 no                     1.467863   \n",
            "4                                 no                     1.967973   \n",
            "...                              ...                          ...   \n",
            "5000                              no                     2.000000   \n",
            "5001                              no                     1.425712   \n",
            "5002                              no                     3.000000   \n",
            "5003                              no                     0.000000   \n",
            "5004                              no                     1.000000   \n",
            "\n",
            "      time_using_technology_devices consumption_of_alcohol  \\\n",
            "0                          0.976473              Sometimes   \n",
            "1                          1.000000                     no   \n",
            "2                          1.673584                     no   \n",
            "3                          0.780199              Sometimes   \n",
            "4                          0.931721              Sometimes   \n",
            "...                             ...                    ...   \n",
            "5000                       1.000000                     no   \n",
            "5001                       0.947884              Sometimes   \n",
            "5002                       2.000000                     no   \n",
            "5003                       0.000000                     no   \n",
            "5004                       0.000000              Sometimes   \n",
            "\n",
            "        transportation_used        obesity_level  \n",
            "0     Public_Transportation  Overweight_Level_II  \n",
            "1                Automobile        Normal_Weight  \n",
            "2     Public_Transportation  Insufficient_Weight  \n",
            "3     Public_Transportation     Obesity_Type_III  \n",
            "4     Public_Transportation  Overweight_Level_II  \n",
            "...                     ...                  ...  \n",
            "5000                Walking        Normal_Weight  \n",
            "5001  Public_Transportation     Obesity_Type_III  \n",
            "5002                Walking        Normal_Weight  \n",
            "5003             Automobile  Overweight_Level_II  \n",
            "5004  Public_Transportation        Normal_Weight  \n",
            "\n",
            "[5005 rows x 18 columns]\n"
          ]
        }
      ]
    },
    {
      "cell_type": "markdown",
      "source": [
        "Finding and REmoving duplicate data"
      ],
      "metadata": {
        "id": "6JyEwoDtRS4P"
      }
    },
    {
      "cell_type": "code",
      "source": [
        "dup_data = data.duplicated()\n",
        "duplicates = data[dup_data]\n",
        "print(duplicates)"
      ],
      "metadata": {
        "colab": {
          "base_uri": "https://localhost:8080/"
        },
        "id": "-cYZHEdlQxUb",
        "outputId": "e417a469-ce24-4a41-fbd1-86303814540a"
      },
      "execution_count": null,
      "outputs": [
        {
          "output_type": "stream",
          "name": "stdout",
          "text": [
            "      id  Gender        Age    Height      Weight  \\\n",
            "4999  10  Female  20.000000  1.650000   65.000000   \n",
            "5000  11    Male  22.000000  1.700000   70.000000   \n",
            "5001  13  Female  21.412538  1.729045  131.529267   \n",
            "5002  14  Female  20.000000  1.570000   49.000000   \n",
            "5003  16  Female  34.000000  1.700000   80.000000   \n",
            "5004  17  Female  18.000000  1.560000   50.000000   \n",
            "\n",
            "     family_history_with_overweight frequent_consumption_of_high_caloric_food  \\\n",
            "4999                            yes                                       yes   \n",
            "5000                            yes                                        no   \n",
            "5001                            yes                                       yes   \n",
            "5002                             no                                        no   \n",
            "5003                            yes                                        no   \n",
            "5004                             no                                       yes   \n",
            "\n",
            "      frequency_of_consumption_of_vegetables  number_of_main_meals  \\\n",
            "4999                                     3.0                   3.0   \n",
            "5000                                     2.0                   3.0   \n",
            "5001                                     3.0                   3.0   \n",
            "5002                                     2.0                   1.0   \n",
            "5003                                     3.0                   3.0   \n",
            "5004                                     3.0                   3.0   \n",
            "\n",
            "     consumption_of_food_between_meals SMOKE  consumption_of_water_daily  \\\n",
            "4999                         Sometimes    no                    3.000000   \n",
            "5000                                no    no                    2.000000   \n",
            "5001                         Sometimes    no                    1.959531   \n",
            "5002                         Sometimes    no                    1.000000   \n",
            "5003                            Always    no                    2.000000   \n",
            "5004                         Sometimes    no                    1.000000   \n",
            "\n",
            "     calories_consumption_monitoring  physical_activity_frequency  \\\n",
            "4999                              no                     1.000000   \n",
            "5000                              no                     2.000000   \n",
            "5001                              no                     1.425712   \n",
            "5002                              no                     3.000000   \n",
            "5003                              no                     0.000000   \n",
            "5004                              no                     1.000000   \n",
            "\n",
            "      time_using_technology_devices consumption_of_alcohol  \\\n",
            "4999                       0.000000              Sometimes   \n",
            "5000                       1.000000                     no   \n",
            "5001                       0.947884              Sometimes   \n",
            "5002                       2.000000                     no   \n",
            "5003                       0.000000                     no   \n",
            "5004                       0.000000              Sometimes   \n",
            "\n",
            "        transportation_used        obesity_level  \n",
            "4999  Public_Transportation   Overweight_Level_I  \n",
            "5000                Walking        Normal_Weight  \n",
            "5001  Public_Transportation     Obesity_Type_III  \n",
            "5002                Walking        Normal_Weight  \n",
            "5003             Automobile  Overweight_Level_II  \n",
            "5004  Public_Transportation        Normal_Weight  \n"
          ]
        }
      ]
    },
    {
      "cell_type": "code",
      "source": [
        "data = data.drop_duplicates()\n",
        "print(data)"
      ],
      "metadata": {
        "colab": {
          "base_uri": "https://localhost:8080/"
        },
        "id": "z0HDYA0MSapq",
        "outputId": "450a3137-1136-479a-a3a3-8c59d9800589"
      },
      "execution_count": null,
      "outputs": [
        {
          "output_type": "stream",
          "name": "stdout",
          "text": [
            "        id  Gender        Age    Height      Weight  \\\n",
            "0        0    Male  24.443011  1.699998   81.669950   \n",
            "1        1  Female  18.000000  1.560000   57.000000   \n",
            "2        2  Female  18.000000  1.711460   50.165754   \n",
            "3        3  Female  20.952737  1.710730  131.274851   \n",
            "4        4    Male  31.641081  1.914186   93.798055   \n",
            "...    ...     ...        ...       ...         ...   \n",
            "4994  4994    Male  19.684891  1.838441   85.312639   \n",
            "4995  4995    Male  16.000000  1.700000   71.000000   \n",
            "4996  4996    Male  19.000000  1.800000   85.000000   \n",
            "4997  4997    Male  19.946244  1.603435   45.000000   \n",
            "4998  4998  Female  20.519916  1.716497  129.013178   \n",
            "\n",
            "     family_history_with_overweight frequent_consumption_of_high_caloric_food  \\\n",
            "0                               yes                                       yes   \n",
            "1                               yes                                       yes   \n",
            "2                               yes                                       yes   \n",
            "3                               yes                                       yes   \n",
            "4                               yes                                       yes   \n",
            "...                             ...                                       ...   \n",
            "4994                            yes                                       yes   \n",
            "4995                            yes                                       yes   \n",
            "4996                             no                                        no   \n",
            "4997                            yes                                       yes   \n",
            "4998                            yes                                       yes   \n",
            "\n",
            "      frequency_of_consumption_of_vegetables  number_of_main_meals  \\\n",
            "0                                   2.000000              2.983297   \n",
            "1                                   2.000000              3.000000   \n",
            "2                                   1.880534              1.411685   \n",
            "3                                   3.000000              3.000000   \n",
            "4                                   2.679664              1.971472   \n",
            "...                                      ...                   ...   \n",
            "4994                                2.971588              3.000000   \n",
            "4995                                3.000000              3.000000   \n",
            "4996                                3.000000              3.000000   \n",
            "4997                                2.000000              3.000000   \n",
            "4998                                3.000000              3.000000   \n",
            "\n",
            "     consumption_of_food_between_meals SMOKE  consumption_of_water_daily  \\\n",
            "0                            Sometimes    no                    2.763573   \n",
            "1                           Frequently    no                    2.000000   \n",
            "2                            Sometimes    no                    1.910378   \n",
            "3                            Sometimes    no                    1.674061   \n",
            "4                            Sometimes    no                    1.979848   \n",
            "...                                ...   ...                         ...   \n",
            "4994                         Sometimes   yes                    2.975528   \n",
            "4995                         Sometimes    no                    2.000000   \n",
            "4996                        Frequently    no                    3.000000   \n",
            "4997                        Frequently    no                    2.487919   \n",
            "4998                         Sometimes    no                    1.484938   \n",
            "\n",
            "     calories_consumption_monitoring  physical_activity_frequency  \\\n",
            "0                                 no                     0.000000   \n",
            "1                                 no                     1.000000   \n",
            "2                                 no                     0.866045   \n",
            "3                                 no                     1.467863   \n",
            "4                                 no                     1.967973   \n",
            "...                              ...                          ...   \n",
            "4994                              no                     1.999773   \n",
            "4995                             yes                     1.000000   \n",
            "4996                              no                     1.000000   \n",
            "4997                             yes                     1.230441   \n",
            "4998                              no                     1.521840   \n",
            "\n",
            "      time_using_technology_devices consumption_of_alcohol  \\\n",
            "0                          0.976473              Sometimes   \n",
            "1                          1.000000                     no   \n",
            "2                          1.673584                     no   \n",
            "3                          0.780199              Sometimes   \n",
            "4                          0.931721              Sometimes   \n",
            "...                             ...                    ...   \n",
            "4994                       0.965464              Sometimes   \n",
            "4995                       2.000000              Sometimes   \n",
            "4996                       0.000000                     no   \n",
            "4997                       0.000000                     no   \n",
            "4998                       0.782416              Sometimes   \n",
            "\n",
            "        transportation_used        obesity_level  \n",
            "0     Public_Transportation  Overweight_Level_II  \n",
            "1                Automobile        Normal_Weight  \n",
            "2     Public_Transportation  Insufficient_Weight  \n",
            "3     Public_Transportation     Obesity_Type_III  \n",
            "4     Public_Transportation  Overweight_Level_II  \n",
            "...                     ...                  ...  \n",
            "4994  Public_Transportation   Overweight_Level_I  \n",
            "4995  Public_Transportation   Overweight_Level_I  \n",
            "4996  Public_Transportation   Overweight_Level_I  \n",
            "4997  Public_Transportation  Insufficient_Weight  \n",
            "4998  Public_Transportation     Obesity_Type_III  \n",
            "\n",
            "[4999 rows x 18 columns]\n"
          ]
        }
      ]
    },
    {
      "cell_type": "markdown",
      "source": [
        "Filling missing values"
      ],
      "metadata": {
        "id": "PpsGL_pyShAv"
      }
    },
    {
      "cell_type": "code",
      "source": [
        "print(data.isnull().sum())"
      ],
      "metadata": {
        "colab": {
          "base_uri": "https://localhost:8080/"
        },
        "id": "K-BdypuoTvKi",
        "outputId": "fa7c0f1e-4457-40db-c0a3-0e194f3aa9f7"
      },
      "execution_count": null,
      "outputs": [
        {
          "output_type": "stream",
          "name": "stdout",
          "text": [
            "id                                           0\n",
            "Gender                                       0\n",
            "Age                                          0\n",
            "Height                                       0\n",
            "Weight                                       0\n",
            "family_history_with_overweight               0\n",
            "frequent_consumption_of_high_caloric_food    0\n",
            "frequency_of_consumption_of_vegetables       1\n",
            "number_of_main_meals                         0\n",
            "consumption_of_food_between_meals            0\n",
            "SMOKE                                        0\n",
            "consumption_of_water_daily                   0\n",
            "calories_consumption_monitoring              0\n",
            "physical_activity_frequency                  0\n",
            "time_using_technology_devices                0\n",
            "consumption_of_alcohol                       0\n",
            "transportation_used                          0\n",
            "obesity_level                                0\n",
            "dtype: int64\n"
          ]
        }
      ]
    },
    {
      "cell_type": "markdown",
      "source": [
        "Data is null only in frequency_of_consumption_of_vegetables. As it is frequency, we use mode to fill that missing data."
      ],
      "metadata": {
        "id": "uig8kgaRT10c"
      }
    },
    {
      "cell_type": "code",
      "source": [
        "data['frequency_of_consumption_of_vegetables']=data['frequency_of_consumption_of_vegetables'].fillna(data['frequency_of_consumption_of_vegetables'].mean())"
      ],
      "metadata": {
        "id": "4MY3ieQ3UMmJ"
      },
      "execution_count": null,
      "outputs": []
    },
    {
      "cell_type": "code",
      "source": [
        "print(data.isnull().sum())"
      ],
      "metadata": {
        "colab": {
          "base_uri": "https://localhost:8080/"
        },
        "id": "K80p-AfPVHJZ",
        "outputId": "ad0724cc-4f73-4ffb-db19-552ca93a661b"
      },
      "execution_count": null,
      "outputs": [
        {
          "output_type": "stream",
          "name": "stdout",
          "text": [
            "id                                           0\n",
            "Gender                                       0\n",
            "Age                                          0\n",
            "Height                                       0\n",
            "Weight                                       0\n",
            "family_history_with_overweight               0\n",
            "frequent_consumption_of_high_caloric_food    0\n",
            "frequency_of_consumption_of_vegetables       0\n",
            "number_of_main_meals                         0\n",
            "consumption_of_food_between_meals            0\n",
            "SMOKE                                        0\n",
            "consumption_of_water_daily                   0\n",
            "calories_consumption_monitoring              0\n",
            "physical_activity_frequency                  0\n",
            "time_using_technology_devices                0\n",
            "consumption_of_alcohol                       0\n",
            "transportation_used                          0\n",
            "obesity_level                                0\n",
            "dtype: int64\n"
          ]
        }
      ]
    },
    {
      "cell_type": "code",
      "source": [
        "mask = data.isna().any(axis = 1) | (data == \" \").any(axis = 1)\n",
        "\n",
        "if mask.any().any():\n",
        "  print(data[mask])\n",
        "else:\n",
        "  print(\"No Empty Vals\")"
      ],
      "metadata": {
        "colab": {
          "base_uri": "https://localhost:8080/"
        },
        "id": "WcigqiwOMU8W",
        "outputId": "3169bb67-dc8a-4188-b07d-23c4bf2282aa"
      },
      "execution_count": null,
      "outputs": [
        {
          "output_type": "stream",
          "name": "stdout",
          "text": [
            "    id Gender        Age    Height      Weight family_history_with_overweight  \\\n",
            "15  15   Male  28.377958  1.706525  102.592171                                  \n",
            "\n",
            "   frequent_consumption_of_high_caloric_food  \\\n",
            "15                                       yes   \n",
            "\n",
            "    frequency_of_consumption_of_vegetables  number_of_main_meals  \\\n",
            "15                                2.636719                   3.0   \n",
            "\n",
            "   consumption_of_food_between_meals SMOKE  consumption_of_water_daily  \\\n",
            "15                         Sometimes    no                         1.0   \n",
            "\n",
            "   calories_consumption_monitoring  physical_activity_frequency  \\\n",
            "15                              no                     1.995582   \n",
            "\n",
            "    time_using_technology_devices consumption_of_alcohol  \\\n",
            "15                       0.930836              Sometimes   \n",
            "\n",
            "      transportation_used    obesity_level  \n",
            "15  Public_Transportation  Obesity_Type_II  \n"
          ]
        }
      ]
    },
    {
      "cell_type": "code",
      "source": [
        "data.loc[15, 'family_history_with_overweight'] = data['family_history_with_overweight'].mode().iloc[0]\n"
      ],
      "metadata": {
        "id": "nOuh3B8PN31U"
      },
      "execution_count": null,
      "outputs": []
    },
    {
      "cell_type": "code",
      "source": [
        "mask = data.isna().any(axis = 1) | (data == \" \").any(axis = 1)\n",
        "\n",
        "if mask.any().any():\n",
        "  print(data[mask])\n",
        "else:\n",
        "  print(\"No Empty Vals\")"
      ],
      "metadata": {
        "colab": {
          "base_uri": "https://localhost:8080/"
        },
        "id": "xnSx0Z7zO5Vw",
        "outputId": "48678b8a-ddef-42a7-c846-b4e96e39ddcd"
      },
      "execution_count": null,
      "outputs": [
        {
          "output_type": "stream",
          "name": "stdout",
          "text": [
            "No Empty Vals\n"
          ]
        }
      ]
    },
    {
      "cell_type": "markdown",
      "source": [
        "getting the csv file"
      ],
      "metadata": {
        "id": "VZvX9IVBW-6y"
      }
    },
    {
      "cell_type": "code",
      "source": [
        "data.to_csv('clean_data.csv')"
      ],
      "metadata": {
        "id": "u8Zb0064XAjm"
      },
      "execution_count": null,
      "outputs": []
    },
    {
      "cell_type": "markdown",
      "source": [
        "Task 2"
      ],
      "metadata": {
        "id": "IGVN2RlBPnea"
      }
    },
    {
      "cell_type": "code",
      "source": [
        "print(data.dtypes)"
      ],
      "metadata": {
        "colab": {
          "base_uri": "https://localhost:8080/"
        },
        "id": "qHG_TY4IPmaC",
        "outputId": "997e79fd-4bde-4ec6-87a8-64e3318ea2ff"
      },
      "execution_count": null,
      "outputs": [
        {
          "output_type": "stream",
          "name": "stdout",
          "text": [
            "id                                             int64\n",
            "Gender                                        object\n",
            "Age                                          float64\n",
            "Height                                       float64\n",
            "Weight                                       float64\n",
            "family_history_with_overweight                object\n",
            "frequent_consumption_of_high_caloric_food     object\n",
            "frequency_of_consumption_of_vegetables       float64\n",
            "number_of_main_meals                         float64\n",
            "consumption_of_food_between_meals             object\n",
            "SMOKE                                         object\n",
            "consumption_of_water_daily                   float64\n",
            "calories_consumption_monitoring               object\n",
            "physical_activity_frequency                  float64\n",
            "time_using_technology_devices                float64\n",
            "consumption_of_alcohol                        object\n",
            "transportation_used                           object\n",
            "obesity_level                                 object\n",
            "dtype: object\n"
          ]
        }
      ]
    },
    {
      "cell_type": "code",
      "source": [
        "uniquedict = {}\n",
        "for col in data:\n",
        "  if (data[col].dtype) == object:\n",
        "    uniquedict[col] = data[col].unique()\n",
        "\n",
        "for i in uniquedict:\n",
        "  print(f\"{i}:{uniquedict[i]}\")"
      ],
      "metadata": {
        "colab": {
          "base_uri": "https://localhost:8080/"
        },
        "id": "-zjR0zJ4ShRL",
        "outputId": "df32231e-4804-4faf-9e21-89066e068e9f"
      },
      "execution_count": null,
      "outputs": [
        {
          "output_type": "stream",
          "name": "stdout",
          "text": [
            "Gender:['Male' 'Female']\n",
            "family_history_with_overweight:['yes' 'no']\n",
            "frequent_consumption_of_high_caloric_food:['yes' 'no']\n",
            "consumption_of_food_between_meals:['Sometimes' 'Frequently' 'no' 'Always']\n",
            "SMOKE:['no' 'yes']\n",
            "calories_consumption_monitoring:['no' 'yes']\n",
            "consumption_of_alcohol:['Sometimes' 'no' 'Frequently']\n",
            "transportation_used:['Public_Transportation' 'Automobile' 'Walking' 'Motorbike' 'Bike']\n",
            "obesity_level:['Overweight_Level_II' 'Normal_Weight' 'Insufficient_Weight'\n",
            " 'Obesity_Type_III' 'Obesity_Type_II' 'Overweight_Level_I'\n",
            " 'Obesity_Type_I']\n"
          ]
        }
      ]
    },
    {
      "cell_type": "code",
      "source": [
        "for key in uniquedict:\n",
        "  count = data[key].value_counts()\n",
        "  print(count)\n",
        "  print()"
      ],
      "metadata": {
        "colab": {
          "base_uri": "https://localhost:8080/"
        },
        "id": "nFzkEh6hTVh1",
        "outputId": "dbf46a21-0879-4fa9-d018-50bffb18013c"
      },
      "execution_count": null,
      "outputs": [
        {
          "output_type": "stream",
          "name": "stdout",
          "text": [
            "Gender\n",
            "Female    2530\n",
            "Male      2469\n",
            "Name: count, dtype: int64\n",
            "\n",
            "family_history_with_overweight\n",
            "yes    4056\n",
            "no      943\n",
            "Name: count, dtype: int64\n",
            "\n",
            "frequent_consumption_of_high_caloric_food\n",
            "yes    4554\n",
            "no      445\n",
            "Name: count, dtype: int64\n",
            "\n",
            "consumption_of_food_between_meals\n",
            "Sometimes     4196\n",
            "Frequently     631\n",
            "Always         109\n",
            "no              63\n",
            "Name: count, dtype: int64\n",
            "\n",
            "SMOKE\n",
            "no     4952\n",
            "yes      47\n",
            "Name: count, dtype: int64\n",
            "\n",
            "calories_consumption_monitoring\n",
            "no     4809\n",
            "yes     190\n",
            "Name: count, dtype: int64\n",
            "\n",
            "consumption_of_alcohol\n",
            "Sometimes     3587\n",
            "no            1269\n",
            "Frequently     143\n",
            "Name: count, dtype: int64\n",
            "\n",
            "transportation_used\n",
            "Public_Transportation    3977\n",
            "Automobile                886\n",
            "Walking                   113\n",
            "Motorbike                  13\n",
            "Bike                       10\n",
            "Name: count, dtype: int64\n",
            "\n",
            "obesity_level\n",
            "Obesity_Type_III       948\n",
            "Normal_Weight          798\n",
            "Obesity_Type_II        723\n",
            "Obesity_Type_I         701\n",
            "Insufficient_Weight    633\n",
            "Overweight_Level_II    615\n",
            "Overweight_Level_I     581\n",
            "Name: count, dtype: int64\n",
            "\n"
          ]
        }
      ]
    },
    {
      "cell_type": "code",
      "source": [
        "import matplotlib.pyplot as plt\n",
        "# For gender\n",
        "count = data['Gender'].value_counts()\n",
        "d = {}\n",
        "for value, cnt in count.items():\n",
        "  d[value] = cnt\n",
        "keys = list(d.keys())\n",
        "values = list(d.values())\n",
        "\n",
        "# Create a pie chart\n",
        "plt.figure(figsize=(5, 5))\n",
        "plt.pie(values, labels=keys, autopct='%1.0f%%', startangle=140)\n",
        "\n",
        "# Add a title\n",
        "plt.title('Gender')\n",
        "\n",
        "# Show the plot\n",
        "plt.show()"
      ],
      "metadata": {
        "colab": {
          "base_uri": "https://localhost:8080/",
          "height": 444
        },
        "id": "qaIv1-V-V4vL",
        "outputId": "37376883-b383-4eee-cd06-d4f1960af95a"
      },
      "execution_count": null,
      "outputs": [
        {
          "output_type": "display_data",
          "data": {
            "text/plain": [
              "<Figure size 500x500 with 1 Axes>"
            ],
            "image/png": "[encoded data removed]"
          },
          "metadata": {}
        }
      ]
    },
    {
      "cell_type": "code",
      "source": [
        "import matplotlib.pyplot as plt\n",
        "# For Physical activity frequency\n",
        "count = data['transportation_used'].value_counts()\n",
        "d = {}\n",
        "for value, cnt in count.items():\n",
        "  d[value] = cnt\n",
        "keys = list(d.keys())\n",
        "values = list(d.values())\n",
        "plt.figure(figsize=(8, 4))\n",
        "plt.scatter(keys, values, color='r')\n",
        "\n",
        "plt.title('transportation_used')\n",
        "plt.xlabel('Transport')\n",
        "plt.ylabel('usage')"
      ],
      "metadata": {
        "colab": {
          "base_uri": "https://localhost:8080/",
          "height": 427
        },
        "id": "SUs2QPxOZb0t",
        "outputId": "ea9ba404-e226-42bd-f72d-6b8c0e9aaffa"
      },
      "execution_count": null,
      "outputs": [
        {
          "output_type": "execute_result",
          "data": {
            "text/plain": [
              "Text(0, 0.5, 'usage')"
            ]
          },
          "metadata": {},
          "execution_count": 81
        },
        {
          "output_type": "display_data",
          "data": {
            "text/plain": [
              "<Figure size 800x400 with 1 Axes>"
            ],
            "image/png": "[encoded data removed]"
          },
          "metadata": {}
        }
      ]
    },
    {
      "cell_type": "code",
      "source": [
        "import matplotlib.pyplot as plt\n",
        "# For Physical activity frequency\n",
        "count = data['obesity_level'].value_counts()\n",
        "d = {}\n",
        "for value, cnt in count.items():\n",
        "  d[value] = cnt\n",
        "keys = list(d.keys())\n",
        "values = list(d.values())\n",
        "plt.figure(figsize=(15, 3))\n",
        "plt.bar(keys, values, color='g')\n",
        "\n",
        "plt.title('OBESITY')\n",
        "plt.xlabel('Obesity level')\n",
        "plt.ylabel('count')\n",
        "\n",
        "plt.show()"
      ],
      "metadata": {
        "colab": {
          "base_uri": "https://localhost:8080/",
          "height": 236
        },
        "id": "cXj4__PkaqTJ",
        "outputId": "a541b409-1cd9-42c7-e20f-f96ceb3ef24f"
      },
      "execution_count": null,
      "outputs": [
        {
          "output_type": "display_data",
          "data": {
            "text/plain": [
              "<Figure size 1500x300 with 1 Axes>"
            ],
            "image/png": "[encoded data removed]"
          },
          "metadata": {}
        }
      ]
    },
    {
      "cell_type": "code",
      "source": [
        "import matplotlib.pyplot as plt\n",
        "# For Physical activity frequency\n",
        "count = data['consumption_of_food_between_meals'].value_counts()\n",
        "d = {}\n",
        "for value, cnt in count.items():\n",
        "  d[value] = cnt\n",
        "categories = list(d.keys())\n",
        "counts = list(d.values())\n",
        "plt.figure(figsize=(8, 4))\n",
        "plt.barh(categories, counts, color='skyblue')\n",
        "\n",
        "# Add titles and labels\n",
        "plt.title('Consumption of Food Between Meals')\n",
        "plt.xlabel('Count')\n",
        "plt.ylabel('Category')\n",
        "\n",
        "# Show the plot\n",
        "plt.show()"
      ],
      "metadata": {
        "colab": {
          "base_uri": "https://localhost:8080/",
          "height": 410
        },
        "id": "zLQ4JN-Uba0V",
        "outputId": "7a85e09f-52c3-4d11-f515-9e1ec39db05e"
      },
      "execution_count": null,
      "outputs": [
        {
          "output_type": "display_data",
          "data": {
            "text/plain": [
              "<Figure size 800x400 with 1 Axes>"
            ],
            "image/png": "[encoded data removed]"
          },
          "metadata": {}
        }
      ]
    },
    {
      "cell_type": "code",
      "source": [
        "import matplotlib.pyplot as plt\n",
        "import pandas as pd\n",
        "import numpy as np\n",
        "\n",
        "# Data\n",
        "data = {\n",
        "    'Sometimes': 3587,\n",
        "    'no': 1269,\n",
        "    'Frequently': 143\n",
        "}\n",
        "\n",
        "# Total value\n",
        "total_values = sum(data.values())\n",
        "\n",
        "# Proportion of each category\n",
        "proportions = {k: v / total_values for k, v in data.items()}\n",
        "\n",
        "# Waffle chart settings\n",
        "width = 40\n",
        "height = 10\n",
        "total_tiles = width * height\n",
        "\n",
        "# Calculate the number of tiles for each category\n",
        "tiles_per_category = {k: round(v * total_tiles) for k, v in proportions.items()}\n",
        "\n",
        "# Create the waffle chart\n",
        "waffle_chart = np.zeros((height, width), dtype=int)\n",
        "\n",
        "category_index = 1\n",
        "for category, tiles in tiles_per_category.items():\n",
        "    tiles_to_fill = tiles\n",
        "    for row in range(height):\n",
        "        for col in range(width):\n",
        "            if tiles_to_fill > 0:\n",
        "                waffle_chart[row, col] = category_index\n",
        "                tiles_to_fill -= 1\n",
        "    category_index += 1\n",
        "\n",
        "# Plotting the waffle chart\n",
        "fig = plt.figure(figsize=(12, 6))\n",
        "plt.matshow(waffle_chart, cmap='tab20c', alpha=0.8)\n",
        "plt.colorbar()\n",
        "\n",
        "# Adding legend\n",
        "categories = list(data.keys())\n",
        "values = list(data.values())\n",
        "category_colors = plt.cm.tab20c(np.linspace(0, 1, len(categories)))\n",
        "\n",
        "legend_handles = [plt.Line2D([0], [0], marker='o', color='w', markerfacecolor=category_colors[i], markersize=10) for i in range(len(categories))]\n",
        "plt.legend(handles=legend_handles, labels=[f\"{category} ({value})\" for category, value in zip(categories, values)], loc='best')\n",
        "\n",
        "# Add title\n",
        "plt.title('Consumption of Alcohol')\n",
        "\n",
        "plt.show()\n"
      ],
      "metadata": {
        "colab": {
          "base_uri": "https://localhost:8080/",
          "height": 300
        },
        "id": "F1qfmaDJbtBa",
        "outputId": "969bf7c3-5f82-4fbb-f6f3-96773ea0e110"
      },
      "execution_count": null,
      "outputs": [
        {
          "output_type": "display_data",
          "data": {
            "text/plain": [
              "<Figure size 1200x600 with 0 Axes>"
            ]
          },
          "metadata": {}
        },
        {
          "output_type": "display_data",
          "data": {
            "text/plain": [
              "<Figure size 1600x400 with 2 Axes>"
            ],
            "image/png": "[encoded data removed]"
          },
          "metadata": {}
        }
      ]
    }
  ]
}